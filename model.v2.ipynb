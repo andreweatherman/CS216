{
 "cells": [
  {
   "cell_type": "markdown",
   "metadata": {},
   "source": [
    "#### XGBoost docs can be found here: https://xgboost.readthedocs.io/en/stable/"
   ]
  },
  {
   "cell_type": "markdown",
   "metadata": {},
   "source": [
    "## Import libraries"
   ]
  },
  {
   "cell_type": "code",
   "execution_count": 1,
   "metadata": {},
   "outputs": [],
   "source": [
    "import numpy as np\n",
    "import pandas as pd\n",
    "import matplotlib.pyplot as plt\n",
    "import graphviz\n",
    "\n",
    "import xgboost as xgb\n",
    "\n",
    "from sklearn.model_selection import train_test_split\n",
    "from sklearn.metrics import mean_squared_error as MSE\n",
    "\n",
    "from sklearn.preprocessing import OneHotEncoder\n",
    "from sklearn.preprocessing import OrdinalEncoder\n",
    "\n",
    "from sklearn import linear_model\n",
    "\n",
    "from xgboost import plot_tree"
   ]
  },
  {
   "cell_type": "markdown",
   "metadata": {},
   "source": [
    "#### This dataframe can be found online at https://github.com/andreweatherman/CS216/blob/main/transfer_player_season_data.csv"
   ]
  },
  {
   "cell_type": "code",
   "execution_count": 2,
   "metadata": {},
   "outputs": [],
   "source": [
    "df = pd.read_csv('transfer_player_season_data.csv')"
   ]
  },
  {
   "cell_type": "code",
   "execution_count": 3,
   "metadata": {
    "scrolled": true
   },
   "outputs": [
    {
     "data": {
      "text/plain": [
       "Index(['Unnamed: 0', 'player', 'pos', 'exp', 'num', 'hgt', 'inches', 'team',\n",
       "       'conf', 'g', 'min', 'mpg', 'ppg', 'oreb', 'dreb', 'rpg', 'apg', 'tov',\n",
       "       'ast_to', 'spg', 'bpg', 'usg', 'ortg', 'efg', 'ts', 'year', 'id', 'fgm',\n",
       "       'ftm', 'fta', 'ft_pct', 'two_m', 'two_a', 'two_pct', 'three_m',\n",
       "       'three_a', 'three_pct', 'dunk_m', 'dunk_a', 'dunk_pct', 'rim_m',\n",
       "       'rim_a', 'rim_pct', 'mid_m', 'mid_a', 'mid_pct', 'porpag', 'dporpag',\n",
       "       'adj_oe', 'drtg', 'adj_de', 'stops', 'obpm', 'dbpm', 'bpm', 'oreb_rate',\n",
       "       'dreb_rate', 'ast', 'to', 'blk', 'stl', 'ftr', 'pfr', 'rec', 'pick',\n",
       "       'fga', 'fg_pct'],\n",
       "      dtype='object')"
      ]
     },
     "execution_count": 3,
     "metadata": {},
     "output_type": "execute_result"
    }
   ],
   "source": [
    "df.columns"
   ]
  },
  {
   "cell_type": "markdown",
   "metadata": {},
   "source": [
    "## Analysis of dataframe columns"
   ]
  },
  {
   "cell_type": "code",
   "execution_count": 4,
   "metadata": {},
   "outputs": [],
   "source": [
    "'''\n",
    "'Unnamed: 0' - byproduct of csv conversion. DROP\n",
    "'player' = player name. DROP\n",
    "'pos' = player position on the court. OHE\n",
    "'exp' = year in school. ORDINAL\n",
    "'num' = jersey number. DROP\n",
    "'hgt' = height in format X'-X''. DROP\n",
    "'inches' = height in inches. KEEP\n",
    "'team' = team name. DROP\n",
    "'conf' = conference name. OHE\n",
    "'g' - 'fg_pct' = numeric. KEEP\n",
    "'''\n",
    "\n",
    "df = df.drop(['Unnamed: 0', 'player', 'num', 'hgt', 'team'], axis=1)\n",
    "\n",
    "for col in ['pos', 'exp', 'conf']:\n",
    "    df[col] = df[col].astype('category')"
   ]
  },
  {
   "cell_type": "markdown",
   "metadata": {},
   "source": [
    "## Split data into X and y applying OHE and OE"
   ]
  },
  {
   "cell_type": "code",
   "execution_count": 5,
   "metadata": {},
   "outputs": [],
   "source": [
    "X = df.drop('ortg', axis=1)\n",
    "\n",
    "y = df['ortg']"
   ]
  },
  {
   "cell_type": "markdown",
   "metadata": {},
   "source": [
    "## Split data intotrain and test sets"
   ]
  },
  {
   "cell_type": "code",
   "execution_count": 6,
   "metadata": {},
   "outputs": [],
   "source": [
    "train_X, test_X, train_y, test_y = train_test_split(X, y, test_size = 0.3)"
   ]
  },
  {
   "cell_type": "markdown",
   "metadata": {},
   "source": [
    "## Load train, test data sets into DMatrices\n"
   ]
  },
  {
   "cell_type": "code",
   "execution_count": 7,
   "metadata": {},
   "outputs": [],
   "source": [
    "dtrain = xgb.DMatrix(train_X, train_y, enable_categorical=True)\n",
    "dtest = xgb.DMatrix(test_X, test_y, enable_categorical=True)"
   ]
  },
  {
   "cell_type": "markdown",
   "metadata": {},
   "source": [
    "## Set parameters and metrics for evaluation"
   ]
  },
  {
   "cell_type": "code",
   "execution_count": 8,
   "metadata": {},
   "outputs": [],
   "source": [
    "# From hypterparameter_tuning.ipynb:\n",
    "param = {'eta': 0.1, \n",
    "         'max_depth': 4, \n",
    "         'min_child_weight': 1,\n",
    "         'n_jobs': 500,\n",
    "         'objective': 'reg:squarederror'}\n",
    "\n",
    "watchlist = [(dtest, \"eval\"), (dtrain, \"train\")]"
   ]
  },
  {
   "cell_type": "markdown",
   "metadata": {},
   "source": [
    "## Train the model (this cell takes about a minute to run)"
   ]
  },
  {
   "cell_type": "code",
   "execution_count": 9,
   "metadata": {
    "scrolled": true
   },
   "outputs": [
    {
     "name": "stdout",
     "output_type": "stream",
     "text": [
      "[0]\teval-rmse:87.85166\ttrain-rmse:87.38849\n",
      "[1]\teval-rmse:79.17693\ttrain-rmse:78.71540\n",
      "[2]\teval-rmse:71.38123\ttrain-rmse:70.90693\n",
      "[3]\teval-rmse:64.35441\ttrain-rmse:63.88390\n",
      "[4]\teval-rmse:58.03001\ttrain-rmse:57.56082\n",
      "[5]\teval-rmse:52.32586\ttrain-rmse:51.86817\n",
      "[6]\teval-rmse:47.21615\ttrain-rmse:46.74766\n",
      "[7]\teval-rmse:42.59000\ttrain-rmse:42.13588\n",
      "[8]\teval-rmse:38.43786\ttrain-rmse:37.98838\n",
      "[9]\teval-rmse:34.69481\ttrain-rmse:34.25568\n",
      "[10]\teval-rmse:31.33019\ttrain-rmse:30.89476\n",
      "[11]\teval-rmse:28.31090\ttrain-rmse:27.87357\n",
      "[12]\teval-rmse:25.60151\ttrain-rmse:25.15667\n",
      "[13]\teval-rmse:23.16526\ttrain-rmse:22.71279\n",
      "[14]\teval-rmse:20.96883\ttrain-rmse:20.51146\n",
      "[15]\teval-rmse:18.99085\ttrain-rmse:18.53492\n",
      "[16]\teval-rmse:17.22280\ttrain-rmse:16.75885\n",
      "[17]\teval-rmse:15.63907\ttrain-rmse:15.16177\n",
      "[18]\teval-rmse:14.21535\ttrain-rmse:13.72686\n",
      "[19]\teval-rmse:12.93782\ttrain-rmse:12.43574\n",
      "[20]\teval-rmse:11.79544\ttrain-rmse:11.28088\n",
      "[21]\teval-rmse:10.78285\ttrain-rmse:10.24870\n",
      "[22]\teval-rmse:9.87468\ttrain-rmse:9.32467\n",
      "[23]\teval-rmse:9.06583\ttrain-rmse:8.49649\n",
      "[24]\teval-rmse:8.32034\ttrain-rmse:7.74799\n",
      "[25]\teval-rmse:7.66388\ttrain-rmse:7.08576\n",
      "[26]\teval-rmse:7.06753\ttrain-rmse:6.48366\n",
      "[27]\teval-rmse:6.55403\ttrain-rmse:5.95266\n",
      "[28]\teval-rmse:6.08969\ttrain-rmse:5.47779\n",
      "[29]\teval-rmse:5.69819\ttrain-rmse:5.05834\n",
      "[30]\teval-rmse:5.33686\ttrain-rmse:4.68844\n",
      "[31]\teval-rmse:5.01776\ttrain-rmse:4.36505\n",
      "[32]\teval-rmse:4.73184\ttrain-rmse:4.07492\n",
      "[33]\teval-rmse:4.50015\ttrain-rmse:3.82013\n",
      "[34]\teval-rmse:4.29747\ttrain-rmse:3.59574\n",
      "[35]\teval-rmse:4.12013\ttrain-rmse:3.39945\n",
      "[36]\teval-rmse:3.96252\ttrain-rmse:3.22429\n",
      "[37]\teval-rmse:3.82866\ttrain-rmse:3.07563\n",
      "[38]\teval-rmse:3.69150\ttrain-rmse:2.93811\n",
      "[39]\teval-rmse:3.57117\ttrain-rmse:2.82145\n",
      "[40]\teval-rmse:3.47303\ttrain-rmse:2.71772\n",
      "[41]\teval-rmse:3.39126\ttrain-rmse:2.62171\n",
      "[42]\teval-rmse:3.30942\ttrain-rmse:2.54044\n",
      "[43]\teval-rmse:3.24235\ttrain-rmse:2.46588\n",
      "[44]\teval-rmse:3.17167\ttrain-rmse:2.40134\n",
      "[45]\teval-rmse:3.12916\ttrain-rmse:2.34650\n",
      "[46]\teval-rmse:3.07006\ttrain-rmse:2.29707\n",
      "[47]\teval-rmse:3.02953\ttrain-rmse:2.24999\n",
      "[48]\teval-rmse:2.99078\ttrain-rmse:2.20996\n",
      "[49]\teval-rmse:2.94587\ttrain-rmse:2.17057\n",
      "[50]\teval-rmse:2.90961\ttrain-rmse:2.13808\n",
      "[51]\teval-rmse:2.88468\ttrain-rmse:2.10487\n",
      "[52]\teval-rmse:2.84871\ttrain-rmse:2.07618\n",
      "[53]\teval-rmse:2.81815\ttrain-rmse:2.04823\n",
      "[54]\teval-rmse:2.79727\ttrain-rmse:2.02386\n",
      "[55]\teval-rmse:2.76696\ttrain-rmse:1.99849\n",
      "[56]\teval-rmse:2.74993\ttrain-rmse:1.97382\n",
      "[57]\teval-rmse:2.72529\ttrain-rmse:1.95291\n",
      "[58]\teval-rmse:2.70743\ttrain-rmse:1.93328\n",
      "[59]\teval-rmse:2.68343\ttrain-rmse:1.91330\n",
      "[60]\teval-rmse:2.67017\ttrain-rmse:1.89477\n",
      "[61]\teval-rmse:2.64789\ttrain-rmse:1.87663\n",
      "[62]\teval-rmse:2.63078\ttrain-rmse:1.85988\n",
      "[63]\teval-rmse:2.61628\ttrain-rmse:1.84392\n",
      "[64]\teval-rmse:2.60396\ttrain-rmse:1.82695\n",
      "[65]\teval-rmse:2.58238\ttrain-rmse:1.81175\n",
      "[66]\teval-rmse:2.57253\ttrain-rmse:1.79751\n",
      "[67]\teval-rmse:2.56397\ttrain-rmse:1.78436\n",
      "[68]\teval-rmse:2.55518\ttrain-rmse:1.77313\n",
      "[69]\teval-rmse:2.54435\ttrain-rmse:1.76068\n",
      "[70]\teval-rmse:2.53398\ttrain-rmse:1.74914\n",
      "[71]\teval-rmse:2.52196\ttrain-rmse:1.73824\n",
      "[72]\teval-rmse:2.51349\ttrain-rmse:1.72690\n",
      "[73]\teval-rmse:2.50660\ttrain-rmse:1.71703\n",
      "[74]\teval-rmse:2.48983\ttrain-rmse:1.70830\n",
      "[75]\teval-rmse:2.48189\ttrain-rmse:1.69918\n",
      "[76]\teval-rmse:2.47123\ttrain-rmse:1.68942\n",
      "[77]\teval-rmse:2.46429\ttrain-rmse:1.67855\n",
      "[78]\teval-rmse:2.45909\ttrain-rmse:1.67172\n",
      "[79]\teval-rmse:2.45187\ttrain-rmse:1.66281\n",
      "[80]\teval-rmse:2.43857\ttrain-rmse:1.65327\n",
      "[81]\teval-rmse:2.42382\ttrain-rmse:1.64388\n",
      "[82]\teval-rmse:2.41979\ttrain-rmse:1.63438\n",
      "[83]\teval-rmse:2.40444\ttrain-rmse:1.62630\n",
      "[84]\teval-rmse:2.40108\ttrain-rmse:1.61947\n",
      "[85]\teval-rmse:2.39590\ttrain-rmse:1.61073\n",
      "[86]\teval-rmse:2.39051\ttrain-rmse:1.60441\n",
      "[87]\teval-rmse:2.38489\ttrain-rmse:1.59676\n",
      "[88]\teval-rmse:2.38168\ttrain-rmse:1.59041\n",
      "[89]\teval-rmse:2.37769\ttrain-rmse:1.58322\n",
      "[90]\teval-rmse:2.36794\ttrain-rmse:1.57519\n",
      "[91]\teval-rmse:2.36172\ttrain-rmse:1.56925\n",
      "[92]\teval-rmse:2.35882\ttrain-rmse:1.56347\n",
      "[93]\teval-rmse:2.35512\ttrain-rmse:1.55579\n",
      "[94]\teval-rmse:2.35144\ttrain-rmse:1.54963\n",
      "[95]\teval-rmse:2.34052\ttrain-rmse:1.54190\n",
      "[96]\teval-rmse:2.33455\ttrain-rmse:1.53548\n",
      "[97]\teval-rmse:2.33068\ttrain-rmse:1.52931\n",
      "[98]\teval-rmse:2.32407\ttrain-rmse:1.52356\n",
      "[99]\teval-rmse:2.31917\ttrain-rmse:1.51766\n",
      "[100]\teval-rmse:2.31265\ttrain-rmse:1.51195\n",
      "[101]\teval-rmse:2.30642\ttrain-rmse:1.50541\n",
      "[102]\teval-rmse:2.29921\ttrain-rmse:1.50014\n",
      "[103]\teval-rmse:2.29559\ttrain-rmse:1.49473\n",
      "[104]\teval-rmse:2.29283\ttrain-rmse:1.48962\n",
      "[105]\teval-rmse:2.28472\ttrain-rmse:1.48425\n",
      "[106]\teval-rmse:2.28076\ttrain-rmse:1.47895\n",
      "[107]\teval-rmse:2.27577\ttrain-rmse:1.47273\n",
      "[108]\teval-rmse:2.27286\ttrain-rmse:1.46728\n",
      "[109]\teval-rmse:2.26992\ttrain-rmse:1.46319\n",
      "[110]\teval-rmse:2.26738\ttrain-rmse:1.45863\n",
      "[111]\teval-rmse:2.26189\ttrain-rmse:1.45323\n",
      "[112]\teval-rmse:2.25916\ttrain-rmse:1.44922\n",
      "[113]\teval-rmse:2.25611\ttrain-rmse:1.44475\n",
      "[114]\teval-rmse:2.25259\ttrain-rmse:1.43949\n",
      "[115]\teval-rmse:2.25018\ttrain-rmse:1.43451\n",
      "[116]\teval-rmse:2.24397\ttrain-rmse:1.42922\n",
      "[117]\teval-rmse:2.24245\ttrain-rmse:1.42619\n",
      "[118]\teval-rmse:2.23839\ttrain-rmse:1.42009\n",
      "[119]\teval-rmse:2.23271\ttrain-rmse:1.41692\n",
      "[120]\teval-rmse:2.23167\ttrain-rmse:1.41240\n",
      "[121]\teval-rmse:2.23017\ttrain-rmse:1.40807\n",
      "[122]\teval-rmse:2.22562\ttrain-rmse:1.40438\n",
      "[123]\teval-rmse:2.22391\ttrain-rmse:1.40099\n",
      "[124]\teval-rmse:2.22212\ttrain-rmse:1.39808\n",
      "[125]\teval-rmse:2.21851\ttrain-rmse:1.39478\n",
      "[126]\teval-rmse:2.21293\ttrain-rmse:1.39014\n",
      "[127]\teval-rmse:2.21251\ttrain-rmse:1.38576\n",
      "[128]\teval-rmse:2.20883\ttrain-rmse:1.38231\n",
      "[129]\teval-rmse:2.20767\ttrain-rmse:1.37920\n",
      "[130]\teval-rmse:2.20245\ttrain-rmse:1.37507\n",
      "[131]\teval-rmse:2.20169\ttrain-rmse:1.37264\n",
      "[132]\teval-rmse:2.19866\ttrain-rmse:1.36974\n",
      "[133]\teval-rmse:2.19798\ttrain-rmse:1.36695\n",
      "[134]\teval-rmse:2.19647\ttrain-rmse:1.36373\n",
      "[135]\teval-rmse:2.19410\ttrain-rmse:1.36033\n",
      "[136]\teval-rmse:2.19220\ttrain-rmse:1.35730\n",
      "[137]\teval-rmse:2.18994\ttrain-rmse:1.35436\n",
      "[138]\teval-rmse:2.18656\ttrain-rmse:1.35112\n",
      "[139]\teval-rmse:2.18545\ttrain-rmse:1.34795\n",
      "[140]\teval-rmse:2.18451\ttrain-rmse:1.34561\n",
      "[141]\teval-rmse:2.18271\ttrain-rmse:1.34275\n",
      "[142]\teval-rmse:2.18018\ttrain-rmse:1.34023\n",
      "[143]\teval-rmse:2.17847\ttrain-rmse:1.33624\n",
      "[144]\teval-rmse:2.17546\ttrain-rmse:1.33297\n",
      "[145]\teval-rmse:2.17330\ttrain-rmse:1.32912\n",
      "[146]\teval-rmse:2.16735\ttrain-rmse:1.32644\n",
      "[147]\teval-rmse:2.16702\ttrain-rmse:1.32370\n",
      "[148]\teval-rmse:2.16432\ttrain-rmse:1.31934\n",
      "[149]\teval-rmse:2.16402\ttrain-rmse:1.31804\n",
      "[150]\teval-rmse:2.15940\ttrain-rmse:1.31067\n",
      "[151]\teval-rmse:2.15740\ttrain-rmse:1.30767\n",
      "[152]\teval-rmse:2.15597\ttrain-rmse:1.30593\n",
      "[153]\teval-rmse:2.15103\ttrain-rmse:1.30278\n",
      "[154]\teval-rmse:2.14689\ttrain-rmse:1.30045\n",
      "[155]\teval-rmse:2.14430\ttrain-rmse:1.29759\n",
      "[156]\teval-rmse:2.14257\ttrain-rmse:1.29409\n",
      "[157]\teval-rmse:2.14062\ttrain-rmse:1.29186\n",
      "[158]\teval-rmse:2.14087\ttrain-rmse:1.28897\n",
      "[159]\teval-rmse:2.14009\ttrain-rmse:1.28724\n",
      "[160]\teval-rmse:2.13684\ttrain-rmse:1.28209\n",
      "[161]\teval-rmse:2.13657\ttrain-rmse:1.27938\n",
      "[162]\teval-rmse:2.13618\ttrain-rmse:1.27659\n",
      "[163]\teval-rmse:2.13514\ttrain-rmse:1.27505\n",
      "[164]\teval-rmse:2.13403\ttrain-rmse:1.27224\n",
      "[165]\teval-rmse:2.13405\ttrain-rmse:1.26955\n",
      "[166]\teval-rmse:2.13361\ttrain-rmse:1.26775\n",
      "[167]\teval-rmse:2.13148\ttrain-rmse:1.26540\n",
      "[168]\teval-rmse:2.13001\ttrain-rmse:1.26334\n",
      "[169]\teval-rmse:2.13075\ttrain-rmse:1.26092\n",
      "[170]\teval-rmse:2.12751\ttrain-rmse:1.25827\n",
      "[171]\teval-rmse:2.12592\ttrain-rmse:1.25483\n",
      "[172]\teval-rmse:2.12502\ttrain-rmse:1.25337\n",
      "[173]\teval-rmse:2.12345\ttrain-rmse:1.25110\n",
      "[174]\teval-rmse:2.12188\ttrain-rmse:1.24822\n",
      "[175]\teval-rmse:2.12159\ttrain-rmse:1.24567\n",
      "[176]\teval-rmse:2.12123\ttrain-rmse:1.24354\n",
      "[177]\teval-rmse:2.11830\ttrain-rmse:1.23851\n",
      "[178]\teval-rmse:2.11771\ttrain-rmse:1.23608\n",
      "[179]\teval-rmse:2.11639\ttrain-rmse:1.23368\n",
      "[180]\teval-rmse:2.11488\ttrain-rmse:1.23103\n",
      "[181]\teval-rmse:2.11303\ttrain-rmse:1.22882\n",
      "[182]\teval-rmse:2.11255\ttrain-rmse:1.22640\n",
      "[183]\teval-rmse:2.11163\ttrain-rmse:1.22466\n",
      "[184]\teval-rmse:2.10962\ttrain-rmse:1.22186\n",
      "[185]\teval-rmse:2.10923\ttrain-rmse:1.22068\n",
      "[186]\teval-rmse:2.10868\ttrain-rmse:1.21924\n",
      "[187]\teval-rmse:2.10836\ttrain-rmse:1.21789\n",
      "[188]\teval-rmse:2.10817\ttrain-rmse:1.21604\n",
      "[189]\teval-rmse:2.10835\ttrain-rmse:1.21424\n",
      "[190]\teval-rmse:2.10692\ttrain-rmse:1.21202\n",
      "[191]\teval-rmse:2.10414\ttrain-rmse:1.20947\n",
      "[192]\teval-rmse:2.10320\ttrain-rmse:1.20767\n"
     ]
    },
    {
     "name": "stdout",
     "output_type": "stream",
     "text": [
      "[193]\teval-rmse:2.10236\ttrain-rmse:1.20642\n",
      "[194]\teval-rmse:2.10190\ttrain-rmse:1.20454\n",
      "[195]\teval-rmse:2.10031\ttrain-rmse:1.20244\n",
      "[196]\teval-rmse:2.09773\ttrain-rmse:1.19847\n",
      "[197]\teval-rmse:2.09705\ttrain-rmse:1.19632\n",
      "[198]\teval-rmse:2.09626\ttrain-rmse:1.19382\n",
      "[199]\teval-rmse:2.09585\ttrain-rmse:1.19234\n",
      "[200]\teval-rmse:2.09579\ttrain-rmse:1.19120\n",
      "[201]\teval-rmse:2.09498\ttrain-rmse:1.18898\n",
      "[202]\teval-rmse:2.09388\ttrain-rmse:1.18658\n",
      "[203]\teval-rmse:2.09288\ttrain-rmse:1.18500\n",
      "[204]\teval-rmse:2.09156\ttrain-rmse:1.18276\n",
      "[205]\teval-rmse:2.08856\ttrain-rmse:1.17981\n",
      "[206]\teval-rmse:2.08841\ttrain-rmse:1.17835\n",
      "[207]\teval-rmse:2.08800\ttrain-rmse:1.17724\n",
      "[208]\teval-rmse:2.08727\ttrain-rmse:1.17656\n",
      "[209]\teval-rmse:2.08677\ttrain-rmse:1.17537\n",
      "[210]\teval-rmse:2.08628\ttrain-rmse:1.17395\n",
      "[211]\teval-rmse:2.08545\ttrain-rmse:1.17224\n",
      "[212]\teval-rmse:2.08346\ttrain-rmse:1.16912\n",
      "[213]\teval-rmse:2.08327\ttrain-rmse:1.16707\n",
      "[214]\teval-rmse:2.08271\ttrain-rmse:1.16578\n",
      "[215]\teval-rmse:2.08179\ttrain-rmse:1.16389\n",
      "[216]\teval-rmse:2.07946\ttrain-rmse:1.16155\n",
      "[217]\teval-rmse:2.07891\ttrain-rmse:1.16099\n",
      "[218]\teval-rmse:2.07910\ttrain-rmse:1.16025\n",
      "[219]\teval-rmse:2.07888\ttrain-rmse:1.15935\n",
      "[220]\teval-rmse:2.07852\ttrain-rmse:1.15817\n",
      "[221]\teval-rmse:2.07789\ttrain-rmse:1.15653\n",
      "[222]\teval-rmse:2.07633\ttrain-rmse:1.15434\n",
      "[223]\teval-rmse:2.07499\ttrain-rmse:1.15279\n",
      "[224]\teval-rmse:2.07334\ttrain-rmse:1.15093\n",
      "[225]\teval-rmse:2.07201\ttrain-rmse:1.14844\n",
      "[226]\teval-rmse:2.07157\ttrain-rmse:1.14676\n",
      "[227]\teval-rmse:2.07138\ttrain-rmse:1.14502\n",
      "[228]\teval-rmse:2.07082\ttrain-rmse:1.14328\n",
      "[229]\teval-rmse:2.07050\ttrain-rmse:1.14258\n",
      "[230]\teval-rmse:2.06929\ttrain-rmse:1.14080\n",
      "[231]\teval-rmse:2.06912\ttrain-rmse:1.13940\n",
      "[232]\teval-rmse:2.06704\ttrain-rmse:1.13774\n",
      "[233]\teval-rmse:2.06543\ttrain-rmse:1.13509\n",
      "[234]\teval-rmse:2.06368\ttrain-rmse:1.13313\n",
      "[235]\teval-rmse:2.06162\ttrain-rmse:1.13007\n",
      "[236]\teval-rmse:2.06091\ttrain-rmse:1.12823\n",
      "[237]\teval-rmse:2.06042\ttrain-rmse:1.12630\n",
      "[238]\teval-rmse:2.05901\ttrain-rmse:1.12453\n",
      "[239]\teval-rmse:2.05844\ttrain-rmse:1.12300\n",
      "[240]\teval-rmse:2.05670\ttrain-rmse:1.12133\n",
      "[241]\teval-rmse:2.05439\ttrain-rmse:1.11977\n",
      "[242]\teval-rmse:2.05400\ttrain-rmse:1.11923\n",
      "[243]\teval-rmse:2.05367\ttrain-rmse:1.11752\n",
      "[244]\teval-rmse:2.05238\ttrain-rmse:1.11575\n",
      "[245]\teval-rmse:2.05150\ttrain-rmse:1.11405\n",
      "[246]\teval-rmse:2.05132\ttrain-rmse:1.11309\n",
      "[247]\teval-rmse:2.05035\ttrain-rmse:1.11180\n",
      "[248]\teval-rmse:2.04901\ttrain-rmse:1.10974\n",
      "[249]\teval-rmse:2.04840\ttrain-rmse:1.10797\n"
     ]
    }
   ],
   "source": [
    "model = xgb.train(param, dtrain, num_boost_round=250, evals=watchlist)"
   ]
  },
  {
   "cell_type": "markdown",
   "metadata": {},
   "source": [
    "## Run the testing data through the model"
   ]
  },
  {
   "cell_type": "code",
   "execution_count": 10,
   "metadata": {},
   "outputs": [],
   "source": [
    "pred_y = model.predict(dtest)"
   ]
  },
  {
   "cell_type": "markdown",
   "metadata": {},
   "source": [
    "## Mean squared error of testing data"
   ]
  },
  {
   "cell_type": "code",
   "execution_count": 11,
   "metadata": {
    "scrolled": true
   },
   "outputs": [
    {
     "name": "stdout",
     "output_type": "stream",
     "text": [
      "4.1959\n"
     ]
    }
   ],
   "source": [
    "mse = np.square(np.subtract(pred_y,test_y)).mean()\n",
    "print(np.round(mse, 4))"
   ]
  },
  {
   "cell_type": "markdown",
   "metadata": {},
   "source": [
    "## Plot 5 most important features of model"
   ]
  },
  {
   "cell_type": "code",
   "execution_count": 12,
   "metadata": {
    "scrolled": false
   },
   "outputs": [
    {
     "data": {
      "image/png": "[encoded data removed]",
      "text/plain": [
       "<Figure size 640x480 with 1 Axes>"
      ]
     },
     "metadata": {},
     "output_type": "display_data"
    }
   ],
   "source": [
    "xgb.plot_importance(model, max_num_features=5);\n",
    "#plt.savefig('importance.pdf', dpi=900)\n",
    "plt.show()"
   ]
  },
  {
   "cell_type": "markdown",
   "metadata": {},
   "source": [
    "## Plot XGBoost tree model"
   ]
  },
  {
   "cell_type": "code",
   "execution_count": 13,
   "metadata": {
    "scrolled": true
   },
   "outputs": [
    {
     "data": {
      "image/png": "[encoded data removed]",
      "text/plain": [
       "<Figure size 640x480 with 1 Axes>"
      ]
     },
     "metadata": {},
     "output_type": "display_data"
    }
   ],
   "source": [
    "xgb.plot_tree(model, num_trees=0);\n",
    "#plt.savefig('xgb-tree.pdf', dpi=900)\n",
    "plt.show()"
   ]
  },
  {
   "cell_type": "markdown",
   "metadata": {},
   "source": [
    "## Creating baseline models to compare with XGBoost"
   ]
  },
  {
   "cell_type": "code",
   "execution_count": 14,
   "metadata": {},
   "outputs": [],
   "source": [
    "df.dropna(inplace=True)\n",
    "\n",
    "lin_X = df[['g', 'min', 'mpg', 'ppg', 'oreb', 'dreb', 'rpg', 'apg', 'tov',\n",
    "       'ast_to', 'spg', 'bpg', 'usg', 'efg', 'ts', 'year', 'id', 'fgm',\n",
    "       'ftm', 'fta', 'ft_pct', 'two_m', 'two_a', 'two_pct', 'three_m',\n",
    "       'three_a', 'three_pct', 'dunk_m', 'dunk_a', 'dunk_pct', 'rim_m',\n",
    "       'rim_a', 'rim_pct', 'mid_m', 'mid_a', 'mid_pct', 'porpag', 'dporpag',\n",
    "       'adj_oe', 'drtg', 'adj_de', 'stops', 'obpm', 'dbpm', 'bpm', 'oreb_rate',\n",
    "       'dreb_rate', 'ast', 'to', 'blk', 'stl', 'ftr', 'pfr', 'rec', 'pick',\n",
    "       'fga', 'fg_pct']]\n",
    "lin_y = df['ortg']\n",
    "\n",
    "lin_train_X, lin_test_X, lin_train_y, lin_test_y = train_test_split(lin_X, lin_y, \n",
    "                                                                    test_size = 0.3)"
   ]
  },
  {
   "cell_type": "code",
   "execution_count": 15,
   "metadata": {},
   "outputs": [],
   "source": [
    "baseline_mean = train_y.mean()\n",
    "baseline_median = train_y.median()\n",
    "\n",
    "reg = linear_model.LinearRegression()\n",
    "reg.fit(lin_train_X, lin_train_y)\n",
    "\n",
    "y_pred = reg.predict(lin_test_X)"
   ]
  },
  {
   "cell_type": "markdown",
   "metadata": {},
   "source": [
    "## Evaluating baseline models with MSE"
   ]
  },
  {
   "cell_type": "code",
   "execution_count": 16,
   "metadata": {
    "scrolled": true
   },
   "outputs": [
    {
     "name": "stdout",
     "output_type": "stream",
     "text": [
      "Baseline MSE for train_y mean: 544.4764\n",
      "Baseline MSE for train_y median: 551.9898\n",
      "Baseline MSE for linear regression: 35.4896\n"
     ]
    }
   ],
   "source": [
    "mse_mean = np.square(np.subtract(baseline_mean ,test_y)).mean()\n",
    "print('Baseline MSE for train_y mean:', np.round(mse_mean, 4))\n",
    "mse_med = np.square(np.subtract(baseline_median ,test_y)).mean()\n",
    "print('Baseline MSE for train_y median:', np.round(mse_med, 4))\n",
    "lin_mse = np.square(np.subtract(y_pred ,lin_test_y)).mean()\n",
    "print('Baseline MSE for linear regression:', np.round(lin_mse, 4))"
   ]
  },
  {
   "cell_type": "markdown",
   "metadata": {},
   "source": [
    "## Difference in XGBoost and baseline MSE"
   ]
  },
  {
   "cell_type": "code",
   "execution_count": 17,
   "metadata": {
    "scrolled": true
   },
   "outputs": [
    {
     "name": "stdout",
     "output_type": "stream",
     "text": [
      "The difference between MSE of XGB and baseline mean is: 540.2805\n",
      "The difference between MSE of XGB and baseline median is: 547.7938\n",
      "The difference between MSE of XGB and linear regression is: 31.2936\n"
     ]
    }
   ],
   "source": [
    "print('The difference between MSE of XGB and baseline mean is:', \n",
    "      np.round(mse_mean - mse, 4))\n",
    "print('The difference between MSE of XGB and baseline median is:', \n",
    "      np.round(mse_med - mse, 4))\n",
    "print('The difference between MSE of XGB and linear regression is:', \n",
    "      np.round(lin_mse - mse, 4))"
   ]
  },
  {
   "cell_type": "markdown",
   "metadata": {},
   "source": [
    "## Save model"
   ]
  },
  {
   "cell_type": "code",
   "execution_count": 18,
   "metadata": {},
   "outputs": [],
   "source": [
    "#model.save_model('0001.model')\n",
    "#model.dump_model('featmap.txt')"
   ]
  }
 ],
 "metadata": {
  "kernelspec": {
   "display_name": "Python 3 (ipykernel)",
   "language": "python",
   "name": "python3"
  },
  "language_info": {
   "codemirror_mode": {
    "name": "ipython",
    "version": 3
   },
   "file_extension": ".py",
   "mimetype": "text/x-python",
   "name": "python",
   "nbconvert_exporter": "python",
   "pygments_lexer": "ipython3",
   "version": "3.10.5"
  },
  "vscode": {
   "interpreter": {
    "hash": "aee8b7b246df8f9039afb4144a1f6fd8d2ca17a180786b69acc140d282b71a49"
   }
  }
 },
 "nbformat": 4,
 "nbformat_minor": 2
}
