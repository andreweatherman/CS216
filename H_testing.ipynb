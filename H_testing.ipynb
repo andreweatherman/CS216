{
 "cells": [
  {
   "cell_type": "code",
   "execution_count": 1,
   "metadata": {},
   "outputs": [],
   "source": [
    "import pandas as pd\n",
    "import numpy as np\n",
    "from scipy import stats"
   ]
  },
  {
   "cell_type": "code",
   "execution_count": 2,
   "metadata": {},
   "outputs": [],
   "source": [
    "df = pd.read_csv('transfer_player_season_data.csv')"
   ]
  },
  {
   "cell_type": "code",
   "execution_count": 3,
   "metadata": {},
   "outputs": [],
   "source": [
    "df_p5 = df[(df['conf'] == 'ACC') | \n",
    "           (df['conf'] == 'SEC') | \n",
    "           (df['conf'] == 'P12') | \n",
    "           (df['conf'] == 'B12') | \n",
    "           (df['conf'] == 'B10')]"
   ]
  },
  {
   "cell_type": "code",
   "execution_count": 4,
   "metadata": {},
   "outputs": [],
   "source": [
    "df_non_p5 = df[(df['conf'] != 'ACC') & \n",
    "           (df['conf'] != 'SEC') & \n",
    "           (df['conf'] != 'P12') &\n",
    "           (df['conf'] != 'B12') & \n",
    "           (df['conf'] != 'B10')]"
   ]
  },
  {
   "cell_type": "code",
   "execution_count": 5,
   "metadata": {
    "scrolled": true
   },
   "outputs": [
    {
     "name": "stdout",
     "output_type": "stream",
     "text": [
      "The p-value comparing p5 schools to non-p5 schools is: 0.247\n"
     ]
    }
   ],
   "source": [
    "p_val_p5 = stats.ttest_ind(df_p5['ortg'].values, df_non_p5['ortg'].values, equal_var=False)[1]\n",
    "print('The p-value comparing p5 schools to non-p5 schools is:', np.round(p_val_p5, 3))"
   ]
  },
  {
   "cell_type": "markdown",
   "metadata": {},
   "source": [
    "## No stat. sig. in offensive rating stat between players in p5 vs non-p5 schools"
   ]
  },
  {
   "cell_type": "code",
   "execution_count": 6,
   "metadata": {},
   "outputs": [],
   "source": [
    "df_acc = df[df['conf'] == 'ACC']\n",
    "df_sec = df[df['conf'] == 'SEC']\n",
    "df_p12 = df[df['conf'] == 'P12']\n",
    "df_b12 = df[df['conf'] == 'B12']\n",
    "df_b10 = df[df['conf'] == 'B10']"
   ]
  },
  {
   "cell_type": "code",
   "execution_count": 7,
   "metadata": {},
   "outputs": [
    {
     "name": "stdout",
     "output_type": "stream",
     "text": [
      "The p-value comparing SEC schools to BIG10 schools is: 0.077\n"
     ]
    }
   ],
   "source": [
    "p_val_sec_b10 = stats.ttest_ind(df_sec['ortg'].values, df_b10['ortg'].values, equal_var=False)[1]\n",
    "print('The p-value comparing SEC schools to BIG10 schools is:', np.round(p_val_sec_b10, 3))"
   ]
  },
  {
   "cell_type": "markdown",
   "metadata": {},
   "source": [
    "## No stat. sig. in offensive rating stat between players in SEC vs BIG10 schools with alpha = 0.05, may be worth checking into... "
   ]
  }
 ],
 "metadata": {
  "kernelspec": {
   "display_name": "Python 3 (ipykernel)",
   "language": "python",
   "name": "python3"
  },
  "language_info": {
   "codemirror_mode": {
    "name": "ipython",
    "version": 3
   },
   "file_extension": ".py",
   "mimetype": "text/x-python",
   "name": "python",
   "nbconvert_exporter": "python",
   "pygments_lexer": "ipython3",
   "version": "3.10.5"
  }
 },
 "nbformat": 4,
 "nbformat_minor": 2
}
